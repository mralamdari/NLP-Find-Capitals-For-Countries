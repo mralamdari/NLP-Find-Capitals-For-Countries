{
  "nbformat": 4,
  "nbformat_minor": 0,
  "metadata": {
    "colab": {
      "name": "NLP-Find-Capitals-For-Countries-Beginner.ipynb",
      "provenance": [],
      "collapsed_sections": [],
      "authorship_tag": "ABX9TyOLW8iLsc1z3V6kxWNDzuZa",
      "include_colab_link": true
    },
    "kernelspec": {
      "name": "python3",
      "display_name": "Python 3"
    },
    "language_info": {
      "name": "python"
    }
  },
  "cells": [
    {
      "cell_type": "markdown",
      "metadata": {
        "id": "view-in-github",
        "colab_type": "text"
      },
      "source": [
        "<a href=\"https://colab.research.google.com/github/mr-alamdari/NLP-Find-Capitals-For-Countries-Beginner/blob/main/NLP_Find_Capitals_For_Countries_Beginner.ipynb\" target=\"_parent\"><img src=\"https://colab.research.google.com/assets/colab-badge.svg\" alt=\"Open In Colab\"/></a>"
      ]
    },
    {
      "cell_type": "code",
      "execution_count": null,
      "metadata": {
        "id": "z6pgZypLXOfU"
      },
      "outputs": [],
      "source": [
        "import os\n",
        "import re\n",
        "import collections\n",
        "import numpy as np\n",
        "import pandas as pd"
      ]
    }
  ]
}